{
 "cells": [
  {
   "cell_type": "code",
   "execution_count": 1,
   "id": "c5e6c574",
   "metadata": {},
   "outputs": [
    {
     "name": "stdout",
     "output_type": "stream",
     "text": [
      "Filename? (Case sensitive): TA_molecule.mol2\n",
      "Atom number 1? Br1\n",
      "Atom number 2? C02\n",
      "Atom number 3? C01\n",
      "Atom number 4? Cl1\n"
     ]
    }
   ],
   "source": [
    "# Entries are case sensitive, and atoms need to be in the form of a Sybyl Atom ID from the mol2.\n",
    "\n",
    "file = input('Filename? (Case sensitive): ')\n",
    "atom_1 = input('Atom number 1? ')\n",
    "atom_2 = input('Atom number 2? ')\n",
    "atom_3 = input('Atom number 3? ')\n",
    "atom_4 = input('Atom number 4? ')"
   ]
  },
  {
   "cell_type": "code",
   "execution_count": 2,
   "id": "6864a18c",
   "metadata": {},
   "outputs": [],
   "source": [
    "with open(file) as f:\n",
    "    lines = f.readlines()"
   ]
  },
  {
   "cell_type": "code",
   "execution_count": 3,
   "id": "b2dbf9cf",
   "metadata": {},
   "outputs": [],
   "source": [
    "# Isolate xyz coodinates\n",
    "for line in lines:\n",
    "    if atom_1 in line:\n",
    "        i = line.split()[2:5]\n",
    "    if atom_2 in line:\n",
    "        j = line.split()[2:5]\n",
    "    if atom_3 in line:\n",
    "        k = line.split()[2:5]\n",
    "    if atom_4 in line:\n",
    "        l = line.split()[2:5]\n",
    "    "
   ]
  },
  {
   "cell_type": "code",
   "execution_count": 4,
   "id": "f5afd465",
   "metadata": {},
   "outputs": [
    {
     "name": "stdout",
     "output_type": "stream",
     "text": [
      "r_ij: [0.0, 1.0, 2.0]\n",
      "r_jk: [-1.0, -1.0, 0.0]\n",
      "r_kj: [1.0, 1.0, 0.0]\n",
      "r_kl: [0.0, -2.0, 0.0]\n"
     ]
    }
   ],
   "source": [
    "# Calculate vectors r_ij, r_jk, r_kj, and r_kl\n",
    "r_ij = []\n",
    "r_ij.append((float(i[0]) - float(j[0])))\n",
    "r_ij.append((float(i[1]) - float(j[1])))\n",
    "r_ij.append((float(i[2]) - float(j[2])))\n",
    "\n",
    "r_jk = []\n",
    "r_jk.append((float(k[0]) - float(j[0])))\n",
    "r_jk.append((float(k[1]) - float(j[1])))\n",
    "r_jk.append((float(k[2]) - float(j[2])))\n",
    "\n",
    "r_kj = []\n",
    "r_kj.append((float(j[0]) - float(k[0])))\n",
    "r_kj.append((float(j[1]) - float(k[1])))\n",
    "r_kj.append((float(j[2]) - float(k[2])))\n",
    "\n",
    "r_kl = []\n",
    "r_kl.append((float(l[0]) - float(k[0])))\n",
    "r_kl.append((float(l[1]) - float(k[1])))\n",
    "r_kl.append((float(l[2]) - float(k[2])))\n",
    "\n",
    "print(f'r_ij: {r_ij}')\n",
    "print(f'r_jk: {r_jk}')\n",
    "print(f'r_kj: {r_kj}')\n",
    "print(f'r_kl: {r_kl}')"
   ]
  },
  {
   "cell_type": "code",
   "execution_count": 5,
   "id": "0fcdc4b4",
   "metadata": {},
   "outputs": [],
   "source": [
    "# calculate the normal vectors to the planes formed by atoms ijk and jkl\n",
    "import numpy as np\n",
    "n_ijk = np.cross(r_ij, r_jk)\n",
    "n_jkl = np.cross(r_kj, r_kl)"
   ]
  },
  {
   "cell_type": "code",
   "execution_count": 6,
   "id": "dcea1f32",
   "metadata": {},
   "outputs": [],
   "source": [
    "# calculate the dot product of n_ijk and n_jkl\n",
    "dot = np.dot(n_ijk, n_jkl)\n",
    "\n",
    "# calculate the magnitudes of n_ijk and n_jkl\n",
    "mag_n_ijk = (n_ijk[0]**2 + n_ijk[1]**2 + n_ijk[2]**2)**(1/2)\n",
    "mag_n_jkl = (n_jkl[0]**2 + n_jkl[1]**2 + n_jkl[2]**2)**(1/2)\n",
    "\n",
    "# calculate the torsional angle \n",
    "TA = np.arccos(dot/(mag_n_ijk * mag_n_jkl))\n",
    "TA = np.degrees(TA)"
   ]
  },
  {
   "cell_type": "code",
   "execution_count": 7,
   "id": "a9e5f419",
   "metadata": {},
   "outputs": [
    {
     "data": {
      "text/plain": [
       "109.47122063449069"
      ]
     },
     "execution_count": 7,
     "metadata": {},
     "output_type": "execute_result"
    }
   ],
   "source": [
    "# Bingo!!!!\n",
    "TA"
   ]
  },
  {
   "cell_type": "code",
   "execution_count": null,
   "id": "528e7cf6",
   "metadata": {},
   "outputs": [],
   "source": []
  }
 ],
 "metadata": {
  "kernelspec": {
   "display_name": "Python 3 (ipykernel)",
   "language": "python",
   "name": "python3"
  },
  "language_info": {
   "codemirror_mode": {
    "name": "ipython",
    "version": 3
   },
   "file_extension": ".py",
   "mimetype": "text/x-python",
   "name": "python",
   "nbconvert_exporter": "python",
   "pygments_lexer": "ipython3",
   "version": "3.7.3"
  }
 },
 "nbformat": 4,
 "nbformat_minor": 5
}
